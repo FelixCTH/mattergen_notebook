{
 "cells": [
  {
   "cell_type": "markdown",
   "id": "c3bc2349",
   "metadata": {},
   "source": [
    "## Form a custom dataset by stacking cif files"
   ]
  },
  {
   "cell_type": "code",
   "execution_count": 18,
   "id": "7fb5686a",
   "metadata": {},
   "outputs": [],
   "source": [
    "import os\n",
    "import pandas as pd\n",
    "from sklearn.model_selection import train_test_split\n",
    "from pymatgen.core import Structure\n",
    "from pymatgen.symmetry.analyzer import SpacegroupAnalyzer\n",
    "import csv\n",
    "\n",
    "# === Set your input/output directories ===\n",
    "cif_dir = \"./test/raw1\"\n",
    "output_dir = \"./test/raw1_processed\"\n",
    "os.makedirs(output_dir, exist_ok=True)\n",
    "\n",
    "\n",
    "records = []\n",
    "\n",
    "\n",
    "for filename in os.listdir(cif_dir):\n",
    "    if not filename.endswith(\".cif\"):\n",
    "        continue\n",
    "\n",
    "    path = os.path.join(cif_dir, filename)\n",
    "    try:\n",
    "        with open(path, \"r\", encoding=\"utf-8\") as f:\n",
    "            cif_text = f.read().replace('\"', \"'\")\n",
    "\n",
    "        structure = Structure.from_str(cif_text, fmt=\"cif\")\n",
    "        sga = SpacegroupAnalyzer(structure)\n",
    "\n",
    "        record = {\n",
    "            \"material_id\": filename.replace(\".cif\", \"\"),\n",
    "            \"pretty_formula\": structure.composition.reduced_formula,\n",
    "            \"elements\": str([el.symbol for el in structure.composition.elements]),\n",
    "            \"cif\": cif_text,\n",
    "            \"spacegroup_number\": sga.get_space_group_number(),\n",
    "        }\n",
    "        records.append(record)\n",
    "\n",
    "    except Exception as e:\n",
    "        print(f\"Skipping {filename}: {e}\")\n",
    "\n",
    "# === Create DataFrame\n",
    "df = pd.DataFrame(records)\n",
    "df.index.name = \"\"  # To enable leading blank index column like MP\n",
    "\n",
    "# === Split ===\n",
    "train_df, temp_df = train_test_split(df, test_size=0.3, random_state=42)\n",
    "val_df, test_df = train_test_split(temp_df, test_size=0.5, random_state=42)\n",
    "\n",
    "# === Save CSVs with header and quotes ===\n",
    "for name, split_df in zip([\"train\", \"val\", \"test\"], [train_df, val_df, test_df]):\n",
    "    out_path = os.path.join(output_dir, f\"{name}.csv\")\n",
    "    split_df.to_csv(\n",
    "        out_path,\n",
    "        index=True,  # Include blank unnamed index column\n",
    "        quoting=csv.QUOTE_ALL,\n",
    "        quotechar='\"',\n",
    "        escapechar='\\\\'\n",
    "    )"
   ]
  }
 ],
 "metadata": {
  "kernelspec": {
   "display_name": "pyg",
   "language": "python",
   "name": "python3"
  },
  "language_info": {
   "codemirror_mode": {
    "name": "ipython",
    "version": 3
   },
   "file_extension": ".py",
   "mimetype": "text/x-python",
   "name": "python",
   "nbconvert_exporter": "python",
   "pygments_lexer": "ipython3",
   "version": "3.13.2"
  }
 },
 "nbformat": 4,
 "nbformat_minor": 5
}
